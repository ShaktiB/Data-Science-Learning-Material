{
 "cells": [
  {
   "cell_type": "markdown",
   "metadata": {},
   "source": [
    "# OOP Practice\n",
    "- https://www.youtube.com/watch?v=HTLu2DFOdTg\n",
    "- https://github.com/EmanueleCagliero/py_class_toolkit/blob/master/Python's%20Class%20Development%20Toolkit.ipynb"
   ]
  },
  {
   "cell_type": "markdown",
   "metadata": {},
   "source": [
    "## Create Basic Class"
   ]
  },
  {
   "cell_type": "code",
   "execution_count": null,
   "metadata": {},
   "outputs": [],
   "source": [
    "\"\"\"\n",
    "Circuitous, LLC - \n",
    "An Advanced Circle Analytics Company\n",
    "\"\"\""
   ]
  },
  {
   "cell_type": "markdown",
   "metadata": {},
   "source": [
    "**Always have this informatiom blob at the top of your code, your elevator pitch for the code (summary of what your class does)**"
   ]
  },
  {
   "cell_type": "code",
   "execution_count": 8,
   "metadata": {},
   "outputs": [],
   "source": [
    "# if using Python 2 --> class Circle (object)\n",
    "# Do not need to do this in Python 3: https://stackoverflow.com/questions/4015417/why-do-python-classes-inherit-object\n",
    "\n",
    "import math\n",
    "\n",
    "class Circle():\n",
    "    'An advanced circle analytic toolkit' # Quick description of the class\n",
    "    \n",
    "    version = '0.1' # Class variable\n",
    "    \n",
    "    def __init__(self, radius):\n",
    "        self.radius = radius # instance variable\n",
    "        \n",
    "    def area(self):\n",
    "        'Performance quadrature on a shape of unifom radius'\n",
    "        return math.pi * self.radius ** 2.0 "
   ]
  },
  {
   "cell_type": "markdown",
   "metadata": {},
   "source": [
    "### Test Class"
   ]
  },
  {
   "cell_type": "code",
   "execution_count": 9,
   "metadata": {},
   "outputs": [
    {
     "name": "stdout",
     "output_type": "stream",
     "text": [
      "0.1\n"
     ]
    }
   ],
   "source": [
    "print(Circle.version)"
   ]
  },
  {
   "cell_type": "code",
   "execution_count": 10,
   "metadata": {},
   "outputs": [],
   "source": [
    "c = Circle(10)"
   ]
  },
  {
   "cell_type": "code",
   "execution_count": 11,
   "metadata": {},
   "outputs": [
    {
     "name": "stdout",
     "output_type": "stream",
     "text": [
      "10\n"
     ]
    }
   ],
   "source": [
    "print(c.radius)"
   ]
  },
  {
   "cell_type": "code",
   "execution_count": 13,
   "metadata": {},
   "outputs": [
    {
     "name": "stdout",
     "output_type": "stream",
     "text": [
      "314.1592653589793\n"
     ]
    }
   ],
   "source": [
    "print(c.area())"
   ]
  },
  {
   "cell_type": "code",
   "execution_count": 16,
   "metadata": {},
   "outputs": [],
   "source": [
    "from random import random, seed"
   ]
  },
  {
   "cell_type": "code",
   "execution_count": 30,
   "metadata": {},
   "outputs": [],
   "source": [
    "seed(123) # Use seed to get reproducible results for the random numbers that get generated"
   ]
  },
  {
   "cell_type": "code",
   "execution_count": 31,
   "metadata": {},
   "outputs": [
    {
     "name": "stdout",
     "output_type": "stream",
     "text": [
      "The average area of 10 random circles\n"
     ]
    }
   ],
   "source": [
    "n = 10\n",
    "circles = [Circle(random()) for i in range(n)]\n",
    "print('The average area of', n, 'random circles')"
   ]
  },
  {
   "cell_type": "code",
   "execution_count": 32,
   "metadata": {},
   "outputs": [
    {
     "name": "stdout",
     "output_type": "stream",
     "text": [
      "0.6756985870803144\n"
     ]
    }
   ],
   "source": [
    "avg = sum([c.area() for c in circles])/n\n",
    "print(avg)"
   ]
  },
  {
   "cell_type": "markdown",
   "metadata": {},
   "source": [
    "## Class Version 2\n",
    "- There is no private or protected in Python\n",
    "- However, in other languages like C++ & JAVA, attributes should not be exposed to the users; user getters & setters\n",
    "- Add Perimeter method"
   ]
  },
  {
   "cell_type": "code",
   "execution_count": 115,
   "metadata": {},
   "outputs": [],
   "source": [
    "class Circle():\n",
    "    'An advanced circle analytic toolkit' # Quick description of the class\n",
    "    \n",
    "    version = '0.2' # Class variable\n",
    "    \n",
    "    def __init__(self, radius):\n",
    "        self.radius = radius # instance variable\n",
    "        \n",
    "    def area(self):\n",
    "        'Performance quadrature on a shape of unifom radius'\n",
    "        return math.pi * self.radius ** 2.0 \n",
    "    \n",
    "    def perimeter(self):\n",
    "        return 2.0 * math.pi * self.radius"
   ]
  },
  {
   "cell_type": "markdown",
   "metadata": {},
   "source": [
    "## Child Class: Tire"
   ]
  },
  {
   "cell_type": "code",
   "execution_count": 116,
   "metadata": {},
   "outputs": [],
   "source": [
    "class Tire(Circle):\n",
    "    'Tires are circles with a corrected perimiter'\n",
    "    \n",
    "    def perimeter(self):\n",
    "        'Circumference corrected for the rubber'\n",
    "        return Circle.perimeter(self) * 1.25"
   ]
  },
  {
   "cell_type": "code",
   "execution_count": 117,
   "metadata": {},
   "outputs": [
    {
     "name": "stdout",
     "output_type": "stream",
     "text": [
      "15\n",
      "706.8583470577034\n",
      "117.80972450961724\n"
     ]
    }
   ],
   "source": [
    "t = Tire(15)\n",
    "print(t.radius)\n",
    "print(t.area())\n",
    "print(t.perimeter())"
   ]
  },
  {
   "cell_type": "markdown",
   "metadata": {},
   "source": [
    "## Class Methods (Verion 3)\n",
    "-  @classmethod vs @staticmethod: https://stackoverflow.com/questions/12179271/meaning-of-classmethod-and-staticmethod-for-beginner"
   ]
  },
  {
   "cell_type": "code",
   "execution_count": 135,
   "metadata": {},
   "outputs": [],
   "source": [
    "class Circle():\n",
    "    'An advanced circle analytic toolkit' # Quick description of the class\n",
    "    \n",
    "    version = '0.3' # Class variable\n",
    "    \n",
    "    def __init__(self, radius):\n",
    "        self.radius = radius # instance variable\n",
    "        \n",
    "    def area(self):\n",
    "        'Performance quadrature on a shape of unifom radius'\n",
    "        return math.pi * self.radius ** 2.0 \n",
    "    \n",
    "    def perimeter(self):\n",
    "        return 2.0 * math.pi * self.radius\n",
    "    \n",
    "    @classmethod #Alternative constructor\n",
    "    def from_bbd(cls, bbd):\n",
    "        'Construct a circle from a bounding box diagonal'\n",
    "        radius = bbd/2.0/math.sqrt(2.0)\n",
    "        return cls(radius)"
   ]
  },
  {
   "cell_type": "code",
   "execution_count": 136,
   "metadata": {},
   "outputs": [],
   "source": [
    "class Tire(Circle):\n",
    "    'Tires are circles with a corrected perimiter'\n",
    "    \n",
    "    def perimeter(self):\n",
    "        'Circumference corrected for the rubber'\n",
    "        return Circle.perimeter(self) * 1.25"
   ]
  },
  {
   "cell_type": "code",
   "execution_count": 137,
   "metadata": {},
   "outputs": [
    {
     "name": "stdout",
     "output_type": "stream",
     "text": [
      "5.303300858899106\n",
      "88.35729338221292\n",
      "33.32162203618774\n"
     ]
    }
   ],
   "source": [
    "c = Circle.from_bbd(15)\n",
    "print(c.radius)\n",
    "print(c.area())\n",
    "print(c.perimeter())"
   ]
  },
  {
   "cell_type": "code",
   "execution_count": 138,
   "metadata": {},
   "outputs": [
    {
     "name": "stdout",
     "output_type": "stream",
     "text": [
      "5.303300858899106\n",
      "88.35729338221292\n",
      "41.652027545234674\n"
     ]
    }
   ],
   "source": [
    "t = Tire.from_bbd(15)\n",
    "print(t.radius)\n",
    "print(t.area())\n",
    "print(t.perimeter())"
   ]
  },
  {
   "cell_type": "markdown",
   "metadata": {},
   "source": [
    "**Note:** Notice how the perimiters returned from the variables *c* and *t* are different. <br>\n",
    "    - This is because the **return cls(radius)** statement in the Circle class uses *cls(radius)* instead of *Circle(radius)*. This accounts for subclasses inheriting the parent class and its methods."
   ]
  },
  {
   "cell_type": "code",
   "execution_count": null,
   "metadata": {},
   "outputs": [],
   "source": []
  }
 ],
 "metadata": {
  "kernelspec": {
   "display_name": "personal",
   "language": "python",
   "name": "personal"
  },
  "language_info": {
   "codemirror_mode": {
    "name": "ipython",
    "version": 3
   },
   "file_extension": ".py",
   "mimetype": "text/x-python",
   "name": "python",
   "nbconvert_exporter": "python",
   "pygments_lexer": "ipython3",
   "version": "3.6.10"
  }
 },
 "nbformat": 4,
 "nbformat_minor": 4
}
